{
 "cells": [
  {
   "cell_type": "code",
   "execution_count": 1,
   "metadata": {},
   "outputs": [],
   "source": [
    "# ANUJA TAYAL\n",
    "#\n",
    "# Problem Statement:\n",
    "# Question answering system for a text article\n",
    "# \n",
    "# Method of Solution\n",
    "# - The application is designed to answer questions on an artical specifically Wikipedia using Gensim module of Doc2vec.\n",
    "# - The application is designed in form of a chatbot which greets with hi and you can answer as many questions \n",
    "#   till you thank him for his services.\n",
    "# - The application scrapes the required article using Beautiful Soup, preprocesses it to remove punctuations \n",
    "#   and other irrelevant texts. The processed text then trains the model using Doc2vec which converts every sentence of article to its corresponding vector. \n",
    "# - When the application is asked a question most probably a fact based question, question is preprocessed and \n",
    "#   trained model calculates calculates the corresponding Doc2vec vector. \n",
    "# - And the application returns the most similar sentence from the model and also the similarity.  \n",
    "#\n",
    "# Future Improvement:\n",
    "# - The Doc2vec model changes its output in every iteration \n",
    "# - The system works best for factoid questions\n",
    "# - We can use biLSTM model to train the model to increase accuracy \n",
    "# - Application can be trained to output more accurately to give the required answer.\n",
    "# - To increase the training set, we can use data from the embedded references."
   ]
  },
  {
   "cell_type": "code",
   "execution_count": 17,
   "metadata": {},
   "outputs": [],
   "source": [
    "#import required libraries\n",
    "import nltk\n",
    "from nltk.corpus import stopwords\n",
    "import re \n",
    "from gensim.models import Word2Vec\n",
    "from gensim.models.doc2vec import TaggedDocument\n",
    "import random\n",
    "import string\n",
    "from sklearn.feature_extraction.text import TfidfVectorizer\n",
    "from sklearn.metrics.pairwise import cosine_similarity"
   ]
  },
  {
   "cell_type": "code",
   "execution_count": 2,
   "metadata": {},
   "outputs": [],
   "source": [
    "#preprocessing text by removing links, removing anything except numbers,letters,-,. and remove extra white spaces\n",
    "def preprocess(text):\n",
    "#     text=re.sub(r'\\[[0-9]*\\]','',text) #remove links\n",
    "    text=re.sub(r'[^a-zA-Z-0-9.]',' ',text) #remove anything except numbers,letters,-,.\n",
    "    text=re.sub(r'\\s+',' ',text)    #remove extra white spaces\n",
    "    return text #return processed text"
   ]
  },
  {
   "cell_type": "code",
   "execution_count": 28,
   "metadata": {
    "scrolled": false
   },
   "outputs": [
    {
     "name": "stdout",
     "output_type": "stream",
     "text": [
      "['Philosophy of Education is a label applied to the study of the purpose process nature and ideals of education.', 'It can be considered a branch of both philosophy and education.', 'Education can be defined as the teaching and learning of specific skills and the imparting of knowledge judgment and wisdom and is something broader than the societal institution of education we often speak of.', 'Many educationalists consider it a weak and woolly field too far removed from the practical applications of the real world to be useful.', 'But philosophers dating back to Plato and the Ancient Greeks have given the area much thought and emphasis and there is little doubt that their work has helped shape the practice of education over the millennia.', 'Plato is the earliest important educational thinker and education is an essential element in The Republic his most important work on philosophy and political theory written around 360 B.C.', '.', 'In it he advocates some rather extreme methods removing children from their mothers care and raising them as wards of the state and differentiating children suitable to the various castes the highest receiving the most education so that they could act as guardians of the city and care for the less able.', 'He believed that education should be holistic including facts skills physical discipline music and art.', 'Plato believed that talent and intelligence are not distributed genetically and thus is be found in children born to all classes although his proposed system of selective public education for an educated minority of the population does not really follow a democratic model.', 'Aristotle considered human nature habit and reason to be equally important forces to be cultivated in education the ultimate aim of which should be to produce good and virtuous citizens.', 'He proposed that teachers lead their students systematically and that repetition be used as a key tool to develop good habits unlike Socrates emphasis on questioning his listeners to bring out their own ideas.', 'He emphasized the balancing of the theoretical and practical aspects of subjects taught among which he explicitly mentions reading writing mathematics music physical education literature history and a wide range of sciences as well as play which he also considered important.', 'During the Medieval period the idea of Perennialism was first formulated by St. Thomas Aquinas in his work De Magistro .', 'Perennialism holds that one should teach those things deemed to be of everlasting importance to all people everywhere namely principles and reasoning not just facts which are apt to change over time and that one should teach first about people not machines or techniques.', 'It was originally religious in nature and it was only much later that a theory of secular perennialism developed.', 'During the Renaissance the French sceptic Michel de Montaigne 1533 - 1592 was one of the first to critically look at education.', 'Unusually for his time Montaigne was willing to question the conventional wisdom of the period calling into question the whole edifice of the educational system and the implicit assumption that university-educated philosophers were necessarily wiser than uneducated farm workers for example.']\n"
     ]
    }
   ],
   "source": [
    "#scrape wikipedia page using Beautiful Soup, extract paragraphs and tokenize them to sentences\n",
    "# response=urllib.request.urlopen('https://en.wikipedia.org/wiki/R2-D2')\n",
    "# html=response.read()\n",
    "# soup=BeautifulSoup(html,'lxml')\n",
    "# para=soup.find_all('p') #extracting paragraphs\n",
    "with open('document.txt') as f:\n",
    "    text=f.read()\n",
    "text=preprocess(text)\n",
    "sent_list=nltk.sent_tokenize(text) #tokenize text to sentences\n",
    "print(sent_list)"
   ]
  },
  {
   "cell_type": "code",
   "execution_count": 7,
   "metadata": {},
   "outputs": [],
   "source": [
    "#tokenize sentences to individual words of sentences and also remove stopwords\n",
    "# words1=[nltk.word_tokenize(sent.lower()) for sent in sent_list]\n",
    "# for i in range(len(words1)):  \n",
    "#     words1[i] = [w for w in words1[i] if w not in stopwords.words('english')]\n",
    "# word2vec=Word2Vec(words1,min_count=2)\n",
    "\n",
    "# sent_scores={}\n",
    "# # sent_list=nltk.sent_tokenize(text)\n",
    "# for sent in sent_list:\n",
    "#     for word in nltk.word_tokenize(sent.lower()):\n",
    "#         if word in freq.keys():\n",
    "#             if len(sent.split(' ')) < 30:\n",
    "#                 if sent not in sent_scores.keys():\n",
    "#                     sent_scores[sent] = freq[word]\n",
    "#                 else:\n",
    "#                     sent_scores[sent] += freq[word]\n",
    "\n"
   ]
  },
  {
   "cell_type": "code",
   "execution_count": 16,
   "metadata": {},
   "outputs": [],
   "source": [
    "lemmatizer = nltk.stem.WordNetLemmatizer()\n",
    " \n",
    "def LemmatizeWords(words):\n",
    "    return [lemmatizer.lemmatize(word) for word in words]\n",
    " \n",
    "remove_punctuation= dict((ord(punctuation), None) for punctuation in string.punctuation)\n",
    " \n",
    "def RemovePunctuations(text):\n",
    "    return LemmatizeWords(nltk.word_tokenize(text.lower().translate(remove_punctuation)))"
   ]
  },
  {
   "cell_type": "code",
   "execution_count": null,
   "metadata": {},
   "outputs": [],
   "source": []
  },
  {
   "cell_type": "code",
   "execution_count": 11,
   "metadata": {},
   "outputs": [],
   "source": [
    "#greet the user\n",
    "greeting_input_texts = (\"hi\",\"hey\", \"heys\", \"hello\", \"morning\", \"evening\",\"greetings\",)\n",
    "greeting_replie_texts = [\"hey\", \"hey hows you?\", \"*nods*\", \"hello there\", \"ello\", \"Welcome, how are you\"]\n",
    " \n",
    "def reply_greeting(text):\n",
    "    for word in text.split():\n",
    "        if word.lower() in greeting_input_texts:\n",
    "            return random.choice(greeting_replie_texts)"
   ]
  },
  {
   "cell_type": "code",
   "execution_count": 29,
   "metadata": {},
   "outputs": [],
   "source": [
    "#give reply function that takes user input and returns required most similar sentence and the similarity number\n",
    "def give_reply(user_input):\n",
    "    chatbot_response=''\n",
    "    user_input=preprocess(user_input)\n",
    "    sent_list.append(user_input)\n",
    "    print(sent_list)\n",
    "#     user_input=preprocess(user_input) #preprocess user input\n",
    "#     user_sent=nltk.word_tokenize(user_input.lower()) #tokenize user sentence\n",
    "    word_vectors = TfidfVectorizer(tokenizer=RemovePunctuations, stop_words='english')\n",
    "    vectorized_words = word_vectors.fit_transform(sent_list)\n",
    "#     print(vectorized_words)\n",
    "    similarity_values = cosine_similarity(vectorized_words[-1], vectorized_words)\n",
    "    similar_sentence_number =similarity_values.argsort()[0][-2]\n",
    "    matched_vector=similarity_values[0][similar_sentence_number]\n",
    "    sent_list.remove(user_input)\n",
    "    print(matched_vector)\n",
    "    if(matched_vector ==0):\n",
    "        chatbot_response=chatbot_response+\"I am sorry! I don't understand you\"\n",
    "        return chatbot_response\n",
    "    else:\n",
    "        chatbot_response = chatbot_response +sent_list[similar_sentence_number]\n",
    "        return chatbot_response"
   ]
  },
  {
   "cell_type": "code",
   "execution_count": 30,
   "metadata": {},
   "outputs": [
    {
     "name": "stdout",
     "output_type": "stream",
     "text": [
      "Hello, I will answer your queries regarding R2-D2:\n",
      "hey\n",
      "Chatbot: hey\n",
      "What do you understand by the term ‘Perennialism’, in the context of the given comprehension passage?\n",
      "Chatbot: ['Philosophy of Education is a label applied to the study of the purpose process nature and ideals of education.', 'It can be considered a branch of both philosophy and education.', 'Education can be defined as the teaching and learning of specific skills and the imparting of knowledge judgment and wisdom and is something broader than the societal institution of education we often speak of.', 'Many educationalists consider it a weak and woolly field too far removed from the practical applications of the real world to be useful.', 'But philosophers dating back to Plato and the Ancient Greeks have given the area much thought and emphasis and there is little doubt that their work has helped shape the practice of education over the millennia.', 'Plato is the earliest important educational thinker and education is an essential element in The Republic his most important work on philosophy and political theory written around 360 B.C.', '.', 'In it he advocates some rather extreme methods removing children from their mothers care and raising them as wards of the state and differentiating children suitable to the various castes the highest receiving the most education so that they could act as guardians of the city and care for the less able.', 'He believed that education should be holistic including facts skills physical discipline music and art.', 'Plato believed that talent and intelligence are not distributed genetically and thus is be found in children born to all classes although his proposed system of selective public education for an educated minority of the population does not really follow a democratic model.', 'Aristotle considered human nature habit and reason to be equally important forces to be cultivated in education the ultimate aim of which should be to produce good and virtuous citizens.', 'He proposed that teachers lead their students systematically and that repetition be used as a key tool to develop good habits unlike Socrates emphasis on questioning his listeners to bring out their own ideas.', 'He emphasized the balancing of the theoretical and practical aspects of subjects taught among which he explicitly mentions reading writing mathematics music physical education literature history and a wide range of sciences as well as play which he also considered important.', 'During the Medieval period the idea of Perennialism was first formulated by St. Thomas Aquinas in his work De Magistro .', 'Perennialism holds that one should teach those things deemed to be of everlasting importance to all people everywhere namely principles and reasoning not just facts which are apt to change over time and that one should teach first about people not machines or techniques.', 'It was originally religious in nature and it was only much later that a theory of secular perennialism developed.', 'During the Renaissance the French sceptic Michel de Montaigne 1533 - 1592 was one of the first to critically look at education.', 'Unusually for his time Montaigne was willing to question the conventional wisdom of the period calling into question the whole edifice of the educational system and the implicit assumption that university-educated philosophers were necessarily wiser than uneducated farm workers for example.', 'what do you understand by the term perennialism in the context of the given comprehension passage ']\n",
      "0.07726398487572331\n",
      "But philosophers dating back to Plato and the Ancient Greeks have given the area much thought and emphasis and there is little doubt that their work has helped shape the practice of education over the millennia.\n"
     ]
    },
    {
     "ename": "KeyboardInterrupt",
     "evalue": "",
     "output_type": "error",
     "traceback": [
      "\u001b[0;31m---------------------------------------------------------------------------\u001b[0m",
      "\u001b[0;31mKeyboardInterrupt\u001b[0m                         Traceback (most recent call last)",
      "\u001b[0;32m/Library/Frameworks/Python.framework/Versions/3.6/lib/python3.6/site-packages/ipykernel/kernelbase.py\u001b[0m in \u001b[0;36m_input_request\u001b[0;34m(self, prompt, ident, parent, password)\u001b[0m\n\u001b[1;32m    877\u001b[0m             \u001b[0;32mtry\u001b[0m\u001b[0;34m:\u001b[0m\u001b[0;34m\u001b[0m\u001b[0m\n\u001b[0;32m--> 878\u001b[0;31m                 \u001b[0mident\u001b[0m\u001b[0;34m,\u001b[0m \u001b[0mreply\u001b[0m \u001b[0;34m=\u001b[0m \u001b[0mself\u001b[0m\u001b[0;34m.\u001b[0m\u001b[0msession\u001b[0m\u001b[0;34m.\u001b[0m\u001b[0mrecv\u001b[0m\u001b[0;34m(\u001b[0m\u001b[0mself\u001b[0m\u001b[0;34m.\u001b[0m\u001b[0mstdin_socket\u001b[0m\u001b[0;34m,\u001b[0m \u001b[0;36m0\u001b[0m\u001b[0;34m)\u001b[0m\u001b[0;34m\u001b[0m\u001b[0m\n\u001b[0m\u001b[1;32m    879\u001b[0m             \u001b[0;32mexcept\u001b[0m \u001b[0mException\u001b[0m\u001b[0;34m:\u001b[0m\u001b[0;34m\u001b[0m\u001b[0m\n",
      "\u001b[0;32m/Library/Frameworks/Python.framework/Versions/3.6/lib/python3.6/site-packages/jupyter_client/session.py\u001b[0m in \u001b[0;36mrecv\u001b[0;34m(self, socket, mode, content, copy)\u001b[0m\n\u001b[1;32m    802\u001b[0m         \u001b[0;32mtry\u001b[0m\u001b[0;34m:\u001b[0m\u001b[0;34m\u001b[0m\u001b[0m\n\u001b[0;32m--> 803\u001b[0;31m             \u001b[0mmsg_list\u001b[0m \u001b[0;34m=\u001b[0m \u001b[0msocket\u001b[0m\u001b[0;34m.\u001b[0m\u001b[0mrecv_multipart\u001b[0m\u001b[0;34m(\u001b[0m\u001b[0mmode\u001b[0m\u001b[0;34m,\u001b[0m \u001b[0mcopy\u001b[0m\u001b[0;34m=\u001b[0m\u001b[0mcopy\u001b[0m\u001b[0;34m)\u001b[0m\u001b[0;34m\u001b[0m\u001b[0m\n\u001b[0m\u001b[1;32m    804\u001b[0m         \u001b[0;32mexcept\u001b[0m \u001b[0mzmq\u001b[0m\u001b[0;34m.\u001b[0m\u001b[0mZMQError\u001b[0m \u001b[0;32mas\u001b[0m \u001b[0me\u001b[0m\u001b[0;34m:\u001b[0m\u001b[0;34m\u001b[0m\u001b[0m\n",
      "\u001b[0;32m/Library/Frameworks/Python.framework/Versions/3.6/lib/python3.6/site-packages/zmq/sugar/socket.py\u001b[0m in \u001b[0;36mrecv_multipart\u001b[0;34m(self, flags, copy, track)\u001b[0m\n\u001b[1;32m    466\u001b[0m         \"\"\"\n\u001b[0;32m--> 467\u001b[0;31m         \u001b[0mparts\u001b[0m \u001b[0;34m=\u001b[0m \u001b[0;34m[\u001b[0m\u001b[0mself\u001b[0m\u001b[0;34m.\u001b[0m\u001b[0mrecv\u001b[0m\u001b[0;34m(\u001b[0m\u001b[0mflags\u001b[0m\u001b[0;34m,\u001b[0m \u001b[0mcopy\u001b[0m\u001b[0;34m=\u001b[0m\u001b[0mcopy\u001b[0m\u001b[0;34m,\u001b[0m \u001b[0mtrack\u001b[0m\u001b[0;34m=\u001b[0m\u001b[0mtrack\u001b[0m\u001b[0;34m)\u001b[0m\u001b[0;34m]\u001b[0m\u001b[0;34m\u001b[0m\u001b[0m\n\u001b[0m\u001b[1;32m    468\u001b[0m         \u001b[0;31m# have first part already, only loop while more to receive\u001b[0m\u001b[0;34m\u001b[0m\u001b[0;34m\u001b[0m\u001b[0m\n",
      "\u001b[0;32mzmq/backend/cython/socket.pyx\u001b[0m in \u001b[0;36mzmq.backend.cython.socket.Socket.recv\u001b[0;34m()\u001b[0m\n",
      "\u001b[0;32mzmq/backend/cython/socket.pyx\u001b[0m in \u001b[0;36mzmq.backend.cython.socket.Socket.recv\u001b[0;34m()\u001b[0m\n",
      "\u001b[0;32mzmq/backend/cython/socket.pyx\u001b[0m in \u001b[0;36mzmq.backend.cython.socket._recv_copy\u001b[0;34m()\u001b[0m\n",
      "\u001b[0;32m/Library/Frameworks/Python.framework/Versions/3.6/lib/python3.6/site-packages/zmq/backend/cython/checkrc.pxd\u001b[0m in \u001b[0;36mzmq.backend.cython.checkrc._check_rc\u001b[0;34m()\u001b[0m\n",
      "\u001b[0;31mKeyboardInterrupt\u001b[0m: ",
      "\nDuring handling of the above exception, another exception occurred:\n",
      "\u001b[0;31mKeyboardInterrupt\u001b[0m                         Traceback (most recent call last)",
      "\u001b[0;32m<ipython-input-30-62f7456335a5>\u001b[0m in \u001b[0;36m<module>\u001b[0;34m\u001b[0m\n\u001b[1;32m      4\u001b[0m \u001b[0mcontinue_discussion\u001b[0m\u001b[0;34m=\u001b[0m\u001b[0;32mTrue\u001b[0m\u001b[0;34m\u001b[0m\u001b[0m\n\u001b[1;32m      5\u001b[0m \u001b[0;32mwhile\u001b[0m \u001b[0mcontinue_discussion\u001b[0m\u001b[0;34m==\u001b[0m\u001b[0;32mTrue\u001b[0m\u001b[0;34m:\u001b[0m\u001b[0;34m\u001b[0m\u001b[0m\n\u001b[0;32m----> 6\u001b[0;31m     \u001b[0muser_input\u001b[0m \u001b[0;34m=\u001b[0m \u001b[0minput\u001b[0m\u001b[0;34m(\u001b[0m\u001b[0;34m)\u001b[0m \u001b[0;31m#get user input\u001b[0m\u001b[0;34m\u001b[0m\u001b[0m\n\u001b[0m\u001b[1;32m      7\u001b[0m     \u001b[0muser_input\u001b[0m \u001b[0;34m=\u001b[0m \u001b[0muser_input\u001b[0m \u001b[0;34m.\u001b[0m\u001b[0mlower\u001b[0m\u001b[0;34m(\u001b[0m\u001b[0;34m)\u001b[0m\u001b[0;34m\u001b[0m\u001b[0m\n\u001b[1;32m      8\u001b[0m     \u001b[0;32mif\u001b[0m \u001b[0muser_input\u001b[0m \u001b[0;32min\u001b[0m \u001b[0moutput_greetings\u001b[0m \u001b[0;32mor\u001b[0m \u001b[0muser_input\u001b[0m \u001b[0;34m==\u001b[0m\u001b[0;34m''\u001b[0m\u001b[0;34m:\u001b[0m\u001b[0;34m\u001b[0m\u001b[0m\n",
      "\u001b[0;32m/Library/Frameworks/Python.framework/Versions/3.6/lib/python3.6/site-packages/ipykernel/kernelbase.py\u001b[0m in \u001b[0;36mraw_input\u001b[0;34m(self, prompt)\u001b[0m\n\u001b[1;32m    851\u001b[0m             \u001b[0mself\u001b[0m\u001b[0;34m.\u001b[0m\u001b[0m_parent_ident\u001b[0m\u001b[0;34m,\u001b[0m\u001b[0;34m\u001b[0m\u001b[0m\n\u001b[1;32m    852\u001b[0m             \u001b[0mself\u001b[0m\u001b[0;34m.\u001b[0m\u001b[0m_parent_header\u001b[0m\u001b[0;34m,\u001b[0m\u001b[0;34m\u001b[0m\u001b[0m\n\u001b[0;32m--> 853\u001b[0;31m             \u001b[0mpassword\u001b[0m\u001b[0;34m=\u001b[0m\u001b[0;32mFalse\u001b[0m\u001b[0;34m,\u001b[0m\u001b[0;34m\u001b[0m\u001b[0m\n\u001b[0m\u001b[1;32m    854\u001b[0m         )\n\u001b[1;32m    855\u001b[0m \u001b[0;34m\u001b[0m\u001b[0m\n",
      "\u001b[0;32m/Library/Frameworks/Python.framework/Versions/3.6/lib/python3.6/site-packages/ipykernel/kernelbase.py\u001b[0m in \u001b[0;36m_input_request\u001b[0;34m(self, prompt, ident, parent, password)\u001b[0m\n\u001b[1;32m    881\u001b[0m             \u001b[0;32mexcept\u001b[0m \u001b[0mKeyboardInterrupt\u001b[0m\u001b[0;34m:\u001b[0m\u001b[0;34m\u001b[0m\u001b[0m\n\u001b[1;32m    882\u001b[0m                 \u001b[0;31m# re-raise KeyboardInterrupt, to truncate traceback\u001b[0m\u001b[0;34m\u001b[0m\u001b[0;34m\u001b[0m\u001b[0m\n\u001b[0;32m--> 883\u001b[0;31m                 \u001b[0;32mraise\u001b[0m \u001b[0mKeyboardInterrupt\u001b[0m\u001b[0;34m\u001b[0m\u001b[0m\n\u001b[0m\u001b[1;32m    884\u001b[0m             \u001b[0;32melse\u001b[0m\u001b[0;34m:\u001b[0m\u001b[0;34m\u001b[0m\u001b[0m\n\u001b[1;32m    885\u001b[0m                 \u001b[0;32mbreak\u001b[0m\u001b[0;34m\u001b[0m\u001b[0m\n",
      "\u001b[0;31mKeyboardInterrupt\u001b[0m: "
     ]
    }
   ],
   "source": [
    "#sample \n",
    "output_greetings=[\"thanks\",\"thank you very much\",\"thank you\",\"bye\"]\n",
    "print(\"Hello, I will answer your queries regarding R2-D2:\") #greet user\n",
    "continue_discussion=True\n",
    "while continue_discussion==True:\n",
    "    user_input = input() #get user input\n",
    "    user_input = user_input .lower()\n",
    "    if user_input in output_greetings or user_input =='':\n",
    "            continue_discussion=False\n",
    "            print(\"Chatbot: Most welcome\")\n",
    "    elif reply_greeting(user_input)!=None:\n",
    "                print(\"Chatbot: \"+reply_greeting(user_input))\n",
    "    else:\n",
    "        print(\"Chatbot: \",end=\"\")\n",
    "        print(give_reply(user_input))\n",
    "        \n",
    "print(\"Chatbot: Take care, bye ..\")"
   ]
  },
  {
   "cell_type": "code",
   "execution_count": 33,
   "metadata": {},
   "outputs": [
    {
     "ename": "ModuleNotFoundError",
     "evalue": "No module named 'tensorflow.contrib'",
     "output_type": "error",
     "traceback": [
      "\u001b[0;31m---------------------------------------------------------------------------\u001b[0m",
      "\u001b[0;31mModuleNotFoundError\u001b[0m                       Traceback (most recent call last)",
      "\u001b[0;32m<ipython-input-33-0cf94e922bd5>\u001b[0m in \u001b[0;36m<module>\u001b[0;34m\u001b[0m\n\u001b[0;32m----> 1\u001b[0;31m \u001b[0;32mimport\u001b[0m \u001b[0mtensorflow\u001b[0m\u001b[0;34m.\u001b[0m\u001b[0mcontrib\u001b[0m \u001b[0;32mas\u001b[0m \u001b[0mseq2seq\u001b[0m\u001b[0;34m\u001b[0m\u001b[0m\n\u001b[0m\u001b[1;32m      2\u001b[0m \u001b[0;32mfrom\u001b[0m \u001b[0mtensorflow\u001b[0m\u001b[0;34m.\u001b[0m\u001b[0mcontrib\u001b[0m\u001b[0;34m.\u001b[0m\u001b[0mseq2seq\u001b[0m\u001b[0;34m.\u001b[0m\u001b[0mmodels\u001b[0m \u001b[0;32mimport\u001b[0m \u001b[0mSimpleSeq2Seq\u001b[0m\u001b[0;34m\u001b[0m\u001b[0m\n\u001b[1;32m      3\u001b[0m \u001b[0;34m\u001b[0m\u001b[0m\n\u001b[1;32m      4\u001b[0m \u001b[0mmodel\u001b[0m \u001b[0;34m=\u001b[0m \u001b[0mSimpleSeq2Seq\u001b[0m\u001b[0;34m(\u001b[0m\u001b[0minput_dim\u001b[0m\u001b[0;34m=\u001b[0m\u001b[0;36m5\u001b[0m\u001b[0;34m,\u001b[0m \u001b[0mhidden_dim\u001b[0m\u001b[0;34m=\u001b[0m\u001b[0;36m10\u001b[0m\u001b[0;34m,\u001b[0m \u001b[0moutput_length\u001b[0m\u001b[0;34m=\u001b[0m\u001b[0;36m8\u001b[0m\u001b[0;34m,\u001b[0m \u001b[0moutput_dim\u001b[0m\u001b[0;34m=\u001b[0m\u001b[0;36m8\u001b[0m\u001b[0;34m)\u001b[0m\u001b[0;34m\u001b[0m\u001b[0m\n\u001b[1;32m      5\u001b[0m \u001b[0mmodel\u001b[0m\u001b[0;34m.\u001b[0m\u001b[0mcompile\u001b[0m\u001b[0;34m(\u001b[0m\u001b[0mloss\u001b[0m\u001b[0;34m=\u001b[0m\u001b[0;34m'mse'\u001b[0m\u001b[0;34m,\u001b[0m \u001b[0moptimizer\u001b[0m\u001b[0;34m=\u001b[0m\u001b[0;34m'rmsprop'\u001b[0m\u001b[0;34m)\u001b[0m\u001b[0;34m\u001b[0m\u001b[0m\n",
      "\u001b[0;31mModuleNotFoundError\u001b[0m: No module named 'tensorflow.contrib'"
     ]
    }
   ],
   "source": [
    "import tensorflow.contrib as seq2seq\n",
    "from tensorflow.contrib.seq2seq.models import SimpleSeq2Seq\n",
    "\n",
    "model = SimpleSeq2Seq(input_dim=5, hidden_dim=10, output_length=8, output_dim=8)\n",
    "model.compile(loss='mse', optimizer='rmsprop')"
   ]
  },
  {
   "cell_type": "code",
   "execution_count": null,
   "metadata": {},
   "outputs": [],
   "source": [
    "print(model.summary())"
   ]
  }
 ],
 "metadata": {
  "kernelspec": {
   "display_name": "Python 3",
   "language": "python",
   "name": "python3"
  },
  "language_info": {
   "codemirror_mode": {
    "name": "ipython",
    "version": 3
   },
   "file_extension": ".py",
   "mimetype": "text/x-python",
   "name": "python",
   "nbconvert_exporter": "python",
   "pygments_lexer": "ipython3",
   "version": "3.6.2"
  }
 },
 "nbformat": 4,
 "nbformat_minor": 2
}
